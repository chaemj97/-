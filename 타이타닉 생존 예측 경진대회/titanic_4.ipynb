{
 "cells": [
  {
   "attachments": {},
   "cell_type": "markdown",
   "metadata": {},
   "source": [
    "# 1. 데이터 불러오기"
   ]
  },
  {
   "cell_type": "code",
   "execution_count": 34,
   "metadata": {},
   "outputs": [],
   "source": [
    "import pandas as pd\n",
    "\n",
    "train = pd.read_csv('./data/train.csv')\n",
    "test = pd.read_csv('./data/test.csv')\n",
    "submission = pd.read_csv('./data/submission.csv')"
   ]
  },
  {
   "attachments": {},
   "cell_type": "markdown",
   "metadata": {},
   "source": [
    "# 2. 전처리"
   ]
  },
  {
   "attachments": {},
   "cell_type": "markdown",
   "metadata": {},
   "source": [
    "1. 독립변수 columns 7개 사용\n",
    "2. Age, Fare 결측치 평균으로 대체\n",
    "3. Age, SibSp, Parch, Fare 수치 표준화 (로지스틱회귀를 위한)\n",
    "4. Sex, Embarked, Pclass 카테고리화\n",
    "5. 독립변수, 종속변수 나누기\n",
    "6. 데이터 불균형 해결 - SMOTE"
   ]
  },
  {
   "cell_type": "code",
   "execution_count": 35,
   "metadata": {},
   "outputs": [],
   "source": [
    "# 1.\n",
    "columns = ['Pclass', 'Sex', 'Age', 'SibSp', 'Parch', 'Fare', 'Embarked']\n",
    "train = train[columns+['Survived']]\n",
    "test = test[columns]\n",
    "\n",
    "# 2.\n",
    "mean_age = train['Age'].mean()\n",
    "mean_fare = train['Fare'].mean()\n",
    "\n",
    "train['Age'] = train['Age'].fillna(mean_age)\n",
    "test['Age'] = test['Age'].fillna(mean_age)\n",
    "train['Fare'] = train['Fare'].fillna(mean_fare)\n",
    "test['Fare'] = test['Fare'].fillna(mean_fare)\n",
    "\n",
    "# 3.\n",
    "float_columns = ['Age', 'SibSp', 'Parch', 'Fare']\n",
    "from sklearn.preprocessing import StandardScaler\n",
    "scaler = StandardScaler()\n",
    "scaler.fit(train[float_columns])\n",
    "train[float_columns] = scaler.transform(train[float_columns])\n",
    "test[float_columns] = scaler.transform(test[float_columns])\n",
    "\n",
    "# 4. \n",
    "train = pd.get_dummies(train, columns=['Sex','Embarked','Pclass'])\n",
    "test = pd.get_dummies(test, columns=['Sex','Embarked','Pclass'])\n",
    "\n",
    "# 5.\n",
    "train_x = train.drop(columns='Survived')\n",
    "train_y = train['Survived']\n",
    "from sklearn.model_selection import train_test_split\n",
    "train_x, val_x, train_y, val_y  = train_test_split(train_x, train_y, test_size=0.2, random_state=0)\n",
    "\n",
    "# 6.\n",
    "from imblearn.over_sampling import SMOTE\n",
    "smote = SMOTE(random_state=0)\n",
    "X_resampled, y_resampled = smote.fit_resample(train_x,list(train_y))\n",
    "X_resampled['Survived'] = y_resampled\n",
    "train_dataset = X_resampled"
   ]
  },
  {
   "cell_type": "code",
   "execution_count": 36,
   "metadata": {},
   "outputs": [
    {
     "data": {
      "text/html": [
       "<div>\n",
       "<style scoped>\n",
       "    .dataframe tbody tr th:only-of-type {\n",
       "        vertical-align: middle;\n",
       "    }\n",
       "\n",
       "    .dataframe tbody tr th {\n",
       "        vertical-align: top;\n",
       "    }\n",
       "\n",
       "    .dataframe thead th {\n",
       "        text-align: right;\n",
       "    }\n",
       "</style>\n",
       "<table border=\"1\" class=\"dataframe\">\n",
       "  <thead>\n",
       "    <tr style=\"text-align: right;\">\n",
       "      <th></th>\n",
       "      <th>Age</th>\n",
       "      <th>SibSp</th>\n",
       "      <th>Parch</th>\n",
       "      <th>Fare</th>\n",
       "      <th>Sex_female</th>\n",
       "      <th>Sex_male</th>\n",
       "      <th>Embarked_C</th>\n",
       "      <th>Embarked_Q</th>\n",
       "      <th>Embarked_S</th>\n",
       "      <th>Pclass_1</th>\n",
       "      <th>Pclass_2</th>\n",
       "      <th>Pclass_3</th>\n",
       "      <th>Survived</th>\n",
       "    </tr>\n",
       "  </thead>\n",
       "  <tbody>\n",
       "    <tr>\n",
       "      <th>0</th>\n",
       "      <td>0.000000</td>\n",
       "      <td>-0.474545</td>\n",
       "      <td>2.008933</td>\n",
       "      <td>-0.341452</td>\n",
       "      <td>True</td>\n",
       "      <td>False</td>\n",
       "      <td>True</td>\n",
       "      <td>False</td>\n",
       "      <td>False</td>\n",
       "      <td>False</td>\n",
       "      <td>False</td>\n",
       "      <td>True</td>\n",
       "      <td>0</td>\n",
       "    </tr>\n",
       "    <tr>\n",
       "      <th>1</th>\n",
       "      <td>0.100109</td>\n",
       "      <td>-0.474545</td>\n",
       "      <td>-0.473674</td>\n",
       "      <td>-0.437007</td>\n",
       "      <td>False</td>\n",
       "      <td>True</td>\n",
       "      <td>False</td>\n",
       "      <td>False</td>\n",
       "      <td>True</td>\n",
       "      <td>False</td>\n",
       "      <td>True</td>\n",
       "      <td>False</td>\n",
       "      <td>0</td>\n",
       "    </tr>\n",
       "    <tr>\n",
       "      <th>2</th>\n",
       "      <td>0.100109</td>\n",
       "      <td>0.432793</td>\n",
       "      <td>0.767630</td>\n",
       "      <td>0.096646</td>\n",
       "      <td>False</td>\n",
       "      <td>True</td>\n",
       "      <td>True</td>\n",
       "      <td>False</td>\n",
       "      <td>False</td>\n",
       "      <td>False</td>\n",
       "      <td>True</td>\n",
       "      <td>False</td>\n",
       "      <td>0</td>\n",
       "    </tr>\n",
       "    <tr>\n",
       "      <th>3</th>\n",
       "      <td>-0.746389</td>\n",
       "      <td>-0.474545</td>\n",
       "      <td>-0.473674</td>\n",
       "      <td>-0.567631</td>\n",
       "      <td>False</td>\n",
       "      <td>True</td>\n",
       "      <td>True</td>\n",
       "      <td>False</td>\n",
       "      <td>False</td>\n",
       "      <td>False</td>\n",
       "      <td>False</td>\n",
       "      <td>True</td>\n",
       "      <td>0</td>\n",
       "    </tr>\n",
       "    <tr>\n",
       "      <th>4</th>\n",
       "      <td>-0.669435</td>\n",
       "      <td>-0.474545</td>\n",
       "      <td>-0.473674</td>\n",
       "      <td>-0.502445</td>\n",
       "      <td>False</td>\n",
       "      <td>True</td>\n",
       "      <td>False</td>\n",
       "      <td>False</td>\n",
       "      <td>True</td>\n",
       "      <td>False</td>\n",
       "      <td>False</td>\n",
       "      <td>True</td>\n",
       "      <td>0</td>\n",
       "    </tr>\n",
       "  </tbody>\n",
       "</table>\n",
       "</div>"
      ],
      "text/plain": [
       "        Age     SibSp     Parch      Fare  Sex_female  Sex_male  Embarked_C  \\\n",
       "0  0.000000 -0.474545  2.008933 -0.341452        True     False        True   \n",
       "1  0.100109 -0.474545 -0.473674 -0.437007       False      True       False   \n",
       "2  0.100109  0.432793  0.767630  0.096646       False      True        True   \n",
       "3 -0.746389 -0.474545 -0.473674 -0.567631       False      True        True   \n",
       "4 -0.669435 -0.474545 -0.473674 -0.502445       False      True       False   \n",
       "\n",
       "   Embarked_Q  Embarked_S  Pclass_1  Pclass_2  Pclass_3  Survived  \n",
       "0       False       False     False     False      True         0  \n",
       "1       False        True     False      True     False         0  \n",
       "2       False       False     False      True     False         0  \n",
       "3       False       False     False     False      True         0  \n",
       "4       False        True     False     False      True         0  "
      ]
     },
     "execution_count": 36,
     "metadata": {},
     "output_type": "execute_result"
    }
   ],
   "source": [
    "train_dataset.head()"
   ]
  },
  {
   "attachments": {},
   "cell_type": "markdown",
   "metadata": {},
   "source": [
    "# 3. 모델"
   ]
  },
  {
   "cell_type": "code",
   "execution_count": 37,
   "metadata": {},
   "outputs": [],
   "source": [
    "from sklearn.metrics import classification_report\n",
    "from sklearn.metrics import confusion_matrix\n",
    "from sklearn.metrics import accuracy_score"
   ]
  },
  {
   "attachments": {},
   "cell_type": "markdown",
   "metadata": {},
   "source": [
    "### 3-1. 로지스틱 회귀 모델"
   ]
  },
  {
   "cell_type": "code",
   "execution_count": 38,
   "metadata": {},
   "outputs": [
    {
     "name": "stdout",
     "output_type": "stream",
     "text": [
      "[[87 23]\n",
      " [12 57]]\n",
      "              precision    recall  f1-score   support\n",
      "\n",
      "           0       0.88      0.79      0.83       110\n",
      "           1       0.71      0.83      0.77        69\n",
      "\n",
      "    accuracy                           0.80       179\n",
      "   macro avg       0.80      0.81      0.80       179\n",
      "weighted avg       0.81      0.80      0.81       179\n",
      "\n",
      "AUC : 0.8044692737430168\n"
     ]
    }
   ],
   "source": [
    "from sklearn.linear_model import LogisticRegression\n",
    "\n",
    "model = LogisticRegression()\n",
    "model.fit(train_dataset.drop(columns='Survived'),train_dataset['Survived'])\n",
    "\n",
    "y_pred = model.predict(val_x)\n",
    "print(confusion_matrix(val_y, y_pred))\n",
    "print(classification_report(val_y, y_pred))\n",
    "print('AUC :',accuracy_score(val_y,y_pred))"
   ]
  },
  {
   "attachments": {},
   "cell_type": "markdown",
   "metadata": {},
   "source": [
    "### 3-2. 의사결정나무 모델"
   ]
  },
  {
   "cell_type": "code",
   "execution_count": 39,
   "metadata": {},
   "outputs": [
    {
     "name": "stdout",
     "output_type": "stream",
     "text": [
      "[[95 15]\n",
      " [16 53]]\n",
      "              precision    recall  f1-score   support\n",
      "\n",
      "           0       0.86      0.86      0.86       110\n",
      "           1       0.78      0.77      0.77        69\n",
      "\n",
      "    accuracy                           0.83       179\n",
      "   macro avg       0.82      0.82      0.82       179\n",
      "weighted avg       0.83      0.83      0.83       179\n",
      "\n",
      "AUC : 0.8268156424581006\n"
     ]
    }
   ],
   "source": [
    "from sklearn.tree import DecisionTreeClassifier\n",
    "\n",
    "model = DecisionTreeClassifier(max_depth=6, random_state=0)\n",
    "model.fit(train_dataset.drop(columns='Survived'),train_dataset['Survived'])\n",
    "\n",
    "y_pred = model.predict(val_x)\n",
    "print(confusion_matrix(val_y, y_pred))\n",
    "print(classification_report(val_y, y_pred))\n",
    "print('AUC :',accuracy_score(val_y,y_pred))"
   ]
  },
  {
   "attachments": {},
   "cell_type": "markdown",
   "metadata": {},
   "source": [
    "### 3-3. 랜덤 포레스트 모델"
   ]
  },
  {
   "cell_type": "code",
   "execution_count": 40,
   "metadata": {},
   "outputs": [
    {
     "name": "stdout",
     "output_type": "stream",
     "text": [
      "[[105   5]\n",
      " [ 21  48]]\n",
      "              precision    recall  f1-score   support\n",
      "\n",
      "           0       0.83      0.95      0.89       110\n",
      "           1       0.91      0.70      0.79        69\n",
      "\n",
      "    accuracy                           0.85       179\n",
      "   macro avg       0.87      0.83      0.84       179\n",
      "weighted avg       0.86      0.85      0.85       179\n",
      "\n",
      "AUC : 0.8547486033519553\n"
     ]
    }
   ],
   "source": [
    "from sklearn.ensemble import RandomForestClassifier\n",
    "\n",
    "model = RandomForestClassifier(n_estimators=200, max_depth=5, random_state=0)\n",
    "model.fit(train.drop(columns='Survived'),train['Survived'])\n",
    "\n",
    "y_pred = model.predict(val_x)\n",
    "print(confusion_matrix(val_y, y_pred))\n",
    "print(classification_report(val_y, y_pred))\n",
    "print('AUC :',accuracy_score(val_y,y_pred))"
   ]
  },
  {
   "attachments": {},
   "cell_type": "markdown",
   "metadata": {},
   "source": [
    "### 3-4. XGBoost 모델"
   ]
  },
  {
   "cell_type": "code",
   "execution_count": 41,
   "metadata": {},
   "outputs": [
    {
     "name": "stdout",
     "output_type": "stream",
     "text": [
      "[[105   5]\n",
      " [ 18  51]]\n",
      "              precision    recall  f1-score   support\n",
      "\n",
      "           0       0.85      0.95      0.90       110\n",
      "           1       0.91      0.74      0.82        69\n",
      "\n",
      "    accuracy                           0.87       179\n",
      "   macro avg       0.88      0.85      0.86       179\n",
      "weighted avg       0.88      0.87      0.87       179\n",
      "\n",
      "AUC : 0.8715083798882681\n"
     ]
    }
   ],
   "source": [
    "from xgboost import XGBClassifier\n",
    "model = XGBClassifier(n_estimators=200, learning_rate=0.01, max_depth=5, random_state = 0)\n",
    "model.fit(train.drop(columns='Survived'),train['Survived'])\n",
    "\n",
    "y_pred = model.predict(val_x)\n",
    "print(confusion_matrix(val_y, y_pred))\n",
    "print(classification_report(val_y, y_pred))\n",
    "print('AUC :',accuracy_score(val_y,y_pred))"
   ]
  },
  {
   "attachments": {},
   "cell_type": "markdown",
   "metadata": {},
   "source": [
    "xgboost의 성능이 가장 좋다"
   ]
  },
  {
   "attachments": {},
   "cell_type": "markdown",
   "metadata": {},
   "source": [
    "# 4. 모델 선택, 제출"
   ]
  },
  {
   "cell_type": "code",
   "execution_count": 42,
   "metadata": {},
   "outputs": [],
   "source": [
    "pick_model = XGBClassifier(n_estimators=200, learning_rate=0.01, max_depth=5, random_state = 0)\n",
    "pick_model.fit(train_dataset.drop(columns='Survived'),train_dataset['Survived'])\n",
    "XGB_pred = pick_model.predict(test)\n",
    "\n",
    "sub1 = submission.copy()\n",
    "sub1['Survived'] = XGB_pred\n",
    "sub1.to_csv('./sub/sub_smote_xgboost.csv',index=False)\n",
    "# 0.7500243427"
   ]
  },
  {
   "cell_type": "code",
   "execution_count": 43,
   "metadata": {},
   "outputs": [],
   "source": [
    "# 랜덤 포레스트 결과\n",
    "rf = RandomForestClassifier(n_estimators=200, max_depth=5, random_state=0)\n",
    "rf.fit(train.drop(columns='Survived'),train['Survived'])\n",
    "\n",
    "rf_pred = rf.predict(test)\n",
    "sub2 = submission.copy()\n",
    "sub2['Survived'] = rf_pred\n",
    "sub2.to_csv('./sub/sub_smote_randomForest.csv',index=False)\n",
    "# 0.7574001947"
   ]
  }
 ],
 "metadata": {
  "kernelspec": {
   "display_name": "titanic",
   "language": "python",
   "name": "python3"
  },
  "language_info": {
   "codemirror_mode": {
    "name": "ipython",
    "version": 3
   },
   "file_extension": ".py",
   "mimetype": "text/x-python",
   "name": "python",
   "nbconvert_exporter": "python",
   "pygments_lexer": "ipython3",
   "version": "3.10.11"
  },
  "orig_nbformat": 4
 },
 "nbformat": 4,
 "nbformat_minor": 2
}
